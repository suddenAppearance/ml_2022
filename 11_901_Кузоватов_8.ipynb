{
 "cells": [
  {
   "cell_type": "markdown",
   "source": [
    "### Описание класса KNN"
   ],
   "metadata": {
    "collapsed": false,
    "pycharm": {
     "name": "#%% md\n"
    }
   }
  },
  {
   "cell_type": "code",
   "execution_count": 30,
   "metadata": {
    "collapsed": true,
    "pycharm": {
     "name": "#%%\n"
    }
   },
   "outputs": [],
   "source": [
    "from collections import defaultdict\n",
    "import numpy as np\n",
    "from sklearn.metrics import accuracy_score\n",
    "\n",
    "\n",
    "class KNN:\n",
    "    def __init__(self, dataset, n_neighbours=3):\n",
    "        self.dataset = dataset\n",
    "        self.n_neighbours = n_neighbours\n",
    "\n",
    "    @staticmethod\n",
    "    def dist(list1, list2):\n",
    "        return np.sqrt(sum([(i - j) ** 2 for i, j in zip(list1, list2)]))\n",
    "\n",
    "    @staticmethod\n",
    "    def score(y_test, predictions):\n",
    "        return accuracy_score(predictions, y_test)\n",
    "\n",
    "    def predict(self, list2d):\n",
    "        predictions = []\n",
    "        for i in range(len(list2d)):\n",
    "            targets = defaultdict(int)\n",
    "\n",
    "            # подсчет расстояний для каждой точки тестовой и тренировочной выборок + сортировка\n",
    "            dists = sorted([self.dist(list2d[i], self.dataset[j][0]), j] for j in range(len(self.dataset)))\n",
    "\n",
    "            [targets.__setitem__(self.dataset[dists[j][1]][1],targets[self.dataset[dists[j][1]][1]] + 1) for j in range(self.n_neighbours)]\n",
    "\n",
    "            predictions.append(max(targets, key=targets.get))\n",
    "\n",
    "        return predictions\n"
   ]
  },
  {
   "cell_type": "markdown",
   "source": [
    "Загрузка тестовой выборки"
   ],
   "metadata": {
    "collapsed": false,
    "pycharm": {
     "name": "#%% md\n"
    }
   }
  },
  {
   "cell_type": "code",
   "execution_count": 21,
   "outputs": [],
   "source": [
    "from sklearn.datasets import load_digits\n",
    "from sklearn.model_selection import train_test_split\n",
    "\n",
    "digits = load_digits()\n",
    "x_train, x_test, y_train, y_test = train_test_split(digits.data, digits.target, test_size=0.20)\n",
    "\n",
    "dataset = [[x_train[i], y_train[i]] for i in range(len(x_train))]"
   ],
   "metadata": {
    "collapsed": false,
    "pycharm": {
     "name": "#%%\n"
    }
   }
  },
  {
   "cell_type": "markdown",
   "source": [
    "Инициализация объекта + запуск предсказывания"
   ],
   "metadata": {
    "collapsed": false,
    "pycharm": {
     "name": "#%% md\n"
    }
   }
  },
  {
   "cell_type": "code",
   "execution_count": 31,
   "outputs": [
    {
     "name": "stdout",
     "output_type": "stream",
     "text": [
      "0.9833333333333333\n"
     ]
    }
   ],
   "source": [
    "knn = KNN(dataset)\n",
    "pred = knn.predict(x_test)\n",
    "print(knn.score(y_test, predictions=pred))"
   ],
   "metadata": {
    "collapsed": false,
    "pycharm": {
     "name": "#%%\n"
    }
   }
  }
 ],
 "metadata": {
  "kernelspec": {
   "display_name": "Python 3",
   "language": "python",
   "name": "python3"
  },
  "language_info": {
   "codemirror_mode": {
    "name": "ipython",
    "version": 2
   },
   "file_extension": ".py",
   "mimetype": "text/x-python",
   "name": "python",
   "nbconvert_exporter": "python",
   "pygments_lexer": "ipython2",
   "version": "2.7.6"
  }
 },
 "nbformat": 4,
 "nbformat_minor": 0
}