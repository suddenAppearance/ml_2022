{
 "cells": [
  {
   "cell_type": "markdown",
   "source": [
    "Генерация датасета"
   ],
   "metadata": {
    "collapsed": false,
    "pycharm": {
     "name": "#%% md\n"
    }
   }
  },
  {
   "cell_type": "code",
   "execution_count": 45,
   "outputs": [],
   "source": [
    "import random\n",
    "\n",
    "classes = ['banana', 'orange', 'other']"
   ],
   "metadata": {
    "collapsed": false,
    "pycharm": {
     "name": "#%%\n"
    }
   }
  },
  {
   "cell_type": "code",
   "execution_count": 52,
   "outputs": [],
   "source": [
    "import csv\n",
    "\n",
    "with open(\"fruits.csv\", \"w\") as f:\n",
    "    writer = csv.writer(f)\n",
    "    writer.writerow(['Класс', 'Длинный', 'Сладкий', 'Желтый'])\n",
    "    for i in range(0, 1000, 3):\n",
    "        writer.writerow([classes[0], random.randint(0, 400), random.randint(0, 350), random.randint(0, 450), ])\n",
    "        writer.writerow([classes[1], random.randint(0, 0), random.randint(0, 150), random.randint(0, 300), ])\n",
    "        writer.writerow([classes[2], random.randint(0, 100), random.randint(0, 150), random.randint(0, 50), ])"
   ],
   "metadata": {
    "collapsed": false,
    "pycharm": {
     "name": "#%%\n"
    }
   }
  },
  {
   "cell_type": "markdown",
   "source": [
    "Считывание датасета"
   ],
   "metadata": {
    "collapsed": false,
    "pycharm": {
     "name": "#%% md\n"
    }
   }
  },
  {
   "cell_type": "code",
   "execution_count": 56,
   "outputs": [
    {
     "data": {
      "text/plain": "    Класс  Длинный  Сладкий  Желтый\n0  banana        1      199      46\n1  orange        0       65      53\n2   other       14      120      31\n3  banana       84      336     307\n4  orange        0        5     133\n5   other       81       96      19\n6  banana       98      349     209\n7  orange        0       49      35\n8   other       10      117       0\n9  banana      137      306      25",
      "text/html": "<div>\n<style scoped>\n    .dataframe tbody tr th:only-of-type {\n        vertical-align: middle;\n    }\n\n    .dataframe tbody tr th {\n        vertical-align: top;\n    }\n\n    .dataframe thead th {\n        text-align: right;\n    }\n</style>\n<table border=\"1\" class=\"dataframe\">\n  <thead>\n    <tr style=\"text-align: right;\">\n      <th></th>\n      <th>Класс</th>\n      <th>Длинный</th>\n      <th>Сладкий</th>\n      <th>Желтый</th>\n    </tr>\n  </thead>\n  <tbody>\n    <tr>\n      <th>0</th>\n      <td>banana</td>\n      <td>1</td>\n      <td>199</td>\n      <td>46</td>\n    </tr>\n    <tr>\n      <th>1</th>\n      <td>orange</td>\n      <td>0</td>\n      <td>65</td>\n      <td>53</td>\n    </tr>\n    <tr>\n      <th>2</th>\n      <td>other</td>\n      <td>14</td>\n      <td>120</td>\n      <td>31</td>\n    </tr>\n    <tr>\n      <th>3</th>\n      <td>banana</td>\n      <td>84</td>\n      <td>336</td>\n      <td>307</td>\n    </tr>\n    <tr>\n      <th>4</th>\n      <td>orange</td>\n      <td>0</td>\n      <td>5</td>\n      <td>133</td>\n    </tr>\n    <tr>\n      <th>5</th>\n      <td>other</td>\n      <td>81</td>\n      <td>96</td>\n      <td>19</td>\n    </tr>\n    <tr>\n      <th>6</th>\n      <td>banana</td>\n      <td>98</td>\n      <td>349</td>\n      <td>209</td>\n    </tr>\n    <tr>\n      <th>7</th>\n      <td>orange</td>\n      <td>0</td>\n      <td>49</td>\n      <td>35</td>\n    </tr>\n    <tr>\n      <th>8</th>\n      <td>other</td>\n      <td>10</td>\n      <td>117</td>\n      <td>0</td>\n    </tr>\n    <tr>\n      <th>9</th>\n      <td>banana</td>\n      <td>137</td>\n      <td>306</td>\n      <td>25</td>\n    </tr>\n  </tbody>\n</table>\n</div>"
     },
     "execution_count": 56,
     "metadata": {},
     "output_type": "execute_result"
    }
   ],
   "source": [
    "import pandas as pd\n",
    "\n",
    "df = pd.read_csv(\"fruits.csv\")\n",
    "df.head(10)"
   ],
   "metadata": {
    "collapsed": false,
    "pycharm": {
     "name": "#%%\n"
    }
   }
  },
  {
   "cell_type": "code",
   "execution_count": 58,
   "outputs": [],
   "source": [
    "from sklearn.model_selection import train_test_split\n",
    "\n",
    "X = df[['Длинный', 'Сладкий', 'Желтый']].values\n",
    "Y = df['Класс'].values\n",
    "\n",
    "X_train, X_test, Y_train, Y_test = train_test_split(X, Y, test_size=0.15)"
   ],
   "metadata": {
    "collapsed": false,
    "pycharm": {
     "name": "#%%\n"
    }
   }
  },
  {
   "cell_type": "code",
   "execution_count": 81,
   "outputs": [
    {
     "name": "stdout",
     "output_type": "stream",
     "text": [
      "DecisionTreeClassifier:  0.9801324503311258\n"
     ]
    }
   ],
   "source": [
    "from sklearn.metrics import accuracy_score\n",
    "from sklearn.tree import DecisionTreeClassifier\n",
    "\n",
    "model = DecisionTreeClassifier(criterion=\"entropy\").fit(X_train, Y_train)\n",
    "score = accuracy_score(model.predict(X_test), Y_test)\n",
    "print('DecisionTreeClassifier: ', score)"
   ],
   "metadata": {
    "collapsed": false,
    "pycharm": {
     "name": "#%%\n"
    }
   }
  }
 ],
 "metadata": {
  "kernelspec": {
   "display_name": "Python 3",
   "language": "python",
   "name": "python3"
  },
  "language_info": {
   "codemirror_mode": {
    "name": "ipython",
    "version": 2
   },
   "file_extension": ".py",
   "mimetype": "text/x-python",
   "name": "python",
   "nbconvert_exporter": "python",
   "pygments_lexer": "ipython2",
   "version": "2.7.6"
  }
 },
 "nbformat": 4,
 "nbformat_minor": 0
}